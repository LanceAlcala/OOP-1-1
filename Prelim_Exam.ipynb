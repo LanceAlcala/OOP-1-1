{
  "nbformat": 4,
  "nbformat_minor": 0,
  "metadata": {
    "colab": {
      "name": "Prelim Exam.ipynb",
      "provenance": [],
      "authorship_tag": "ABX9TyM4rFhPhL1mDqyRzi9ihchU",
      "include_colab_link": true
    },
    "kernelspec": {
      "name": "python3",
      "display_name": "Python 3"
    },
    "language_info": {
      "name": "python"
    }
  },
  "cells": [
    {
      "cell_type": "markdown",
      "metadata": {
        "id": "view-in-github",
        "colab_type": "text"
      },
      "source": [
        "<a href=\"https://colab.research.google.com/github/LanceAlcala/OOP-1-1/blob/main/Prelim_Exam.ipynb\" target=\"_parent\"><img src=\"https://colab.research.google.com/assets/colab-badge.svg\" alt=\"Open In Colab\"/></a>"
      ]
    },
    {
      "cell_type": "markdown",
      "source": [
        "Problem 2\n",
        "1.\tWrite a Python to display your full name, student number, age, and course\n",
        "2.\tCreate a class named Student with attributes: Name, Student_No, Age, School, and Course\n",
        "3.\tCreate an object name Myself and assign an instance for each attribute.\n",
        "4.\tCreate a method Info() using an instantiation of a class.\n",
        "5.\tInsert your GitHub link \"Prelim Exam\" from your repository named \"OOP 1-1\"\n"
      ],
      "metadata": {
        "id": "w2qL7GOgBNaU"
      }
    },
    {
      "cell_type": "code",
      "source": [
        "class Student:\n",
        "  def __init__(self, Name,Student_No,Age,School,Course):\n",
        "    self.Name=Name\n",
        "    self.Student_No=Student_No\n",
        "    self.Age=Age\n",
        "    self.School=School\n",
        "    self.Course=Course\n",
        "  def Info(self):\n",
        "    print(\"My name is\",self.Name,\"I am\",self.Age, \"years old.\", \"I am currently taking\",self.Course, \"at\",self.School, \"and my student number is\",self.Student_No)\n",
        "Myself=Student(\"Lance Wesley B. Alcala\",202101468,19,\"Cavite State University\",\"Bachelor of Science in Computer Engineering\")\n",
        "Myself.Info()"
      ],
      "metadata": {
        "colab": {
          "base_uri": "https://localhost:8080/"
        },
        "id": "d3klrEheBPtz",
        "outputId": "760543dd-3123-4597-b916-0adace043689"
      },
      "execution_count": 16,
      "outputs": [
        {
          "output_type": "stream",
          "name": "stdout",
          "text": [
            "My name is Lance Wesley B. Alcala I am 19 years old. I am currently taking Bachelor of Science in Computer Engineering at Cavite State University and my student number is 202101468\n"
          ]
        }
      ]
    }
  ]
}