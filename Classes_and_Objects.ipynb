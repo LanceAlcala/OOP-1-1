{
  "nbformat": 4,
  "nbformat_minor": 0,
  "metadata": {
    "colab": {
      "name": "Classes and Objects.ipynb",
      "provenance": [],
      "collapsed_sections": [],
      "authorship_tag": "ABX9TyNSvDDUKqDtRvN2DG9yOvol",
      "include_colab_link": true
    },
    "kernelspec": {
      "name": "python3",
      "display_name": "Python 3"
    },
    "language_info": {
      "name": "python"
    }
  },
  "cells": [
    {
      "cell_type": "markdown",
      "metadata": {
        "id": "view-in-github",
        "colab_type": "text"
      },
      "source": [
        "<a href=\"https://colab.research.google.com/github/LanceAlcala/OOP-1-1/blob/main/Classes_and_Objects.ipynb\" target=\"_parent\"><img src=\"https://colab.research.google.com/assets/colab-badge.svg\" alt=\"Open In Colab\"/></a>"
      ]
    },
    {
      "cell_type": "markdown",
      "source": [
        "Application 2 - Write a python program that displays teh fullname of a student, student number, age course, and school. Create a class name OOP_1_1 and create Info() method to display the information of a student with fullname, student_no, age, course, school as attributes."
      ],
      "metadata": {
        "id": "jXSmy3gI1kgK"
      }
    },
    {
      "cell_type": "code",
      "source": [
        "class OOP_1_1:\n",
        "  def __init__(self,name,student_no,age,course,school):\n",
        "    self.name = name\n",
        "    self.student_no = student_no\n",
        "    self.age = age\n",
        "    self.course = course\n",
        "    self.school = school\n",
        "\n",
        "  def info(self):\n",
        "   print(self.name,self.student_no,self.age,self.course,self.school)\n",
        "\n",
        "student = OOP_1_1('Lance Wesley B. Alcala',2020101468,19,\"BSCpE\", \"Cavite State University\")       \n",
        "\n",
        "print(\"My name is\",student.name,\", my student number is\",student.student_no, \". I am \",student.age,\" years old.\", \"I am currently taking \",student.course, \"at\", student.school)"
      ],
      "metadata": {
        "colab": {
          "base_uri": "https://localhost:8080/"
        },
        "id": "pXuDB3Qi1nF4",
        "outputId": "6be4b9ee-388d-4c95-b8b7-5a2f0452f1ec"
      },
      "execution_count": 24,
      "outputs": [
        {
          "output_type": "stream",
          "name": "stdout",
          "text": [
            "My name is Lance Wesley B. Alcala , my student number is 2020101468 . I am  19  years old. I am currently taking  BSCpE at Cavite State University\n"
          ]
        }
      ]
    },
    {
      "cell_type": "markdown",
      "source": [
        "Application 3 - Define an Area() method of the class Circle that calculates the circle's area. Define a Perimeter() method of the class which allows you to calculate the perimeter of the circle."
      ],
      "metadata": {
        "id": "dQ440ohU6xBW"
      }
    },
    {
      "cell_type": "code",
      "source": [
        "import math\n",
        "class Circle:\n",
        "  def __init__(self,pi,r):\n",
        "    self.pi=pi\n",
        "    self.r=r\n",
        "  def Area(self):\n",
        "    print(\"The Area of the circle is\",self.pi*self.r**2)\n",
        "  def Perimeter(self):\n",
        "    print(\"The Perimeter of the circle is\",2*self.pi*self.r)\n",
        "C=Circle(math.pi,25)\n",
        "C.Area()\n",
        "C.Perimeter()"
      ],
      "metadata": {
        "colab": {
          "base_uri": "https://localhost:8080/"
        },
        "id": "Cj4QosF8CrD7",
        "outputId": "69144e11-74fd-4db8-a1f3-b994451f6e8e"
      },
      "execution_count": 77,
      "outputs": [
        {
          "output_type": "stream",
          "name": "stdout",
          "text": [
            "The Area of the circle is 1963.4954084936207\n",
            "The Perimeter of the circle is 157.07963267948966\n"
          ]
        }
      ]
    }
  ]
}