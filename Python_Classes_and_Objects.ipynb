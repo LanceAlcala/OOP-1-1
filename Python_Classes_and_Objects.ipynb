{
  "nbformat": 4,
  "nbformat_minor": 0,
  "metadata": {
    "colab": {
      "name": "Python Classes and Objects.ipynb",
      "provenance": [],
      "authorship_tag": "ABX9TyN4hPk4URHJ4Oqs9OdVewy/",
      "include_colab_link": true
    },
    "kernelspec": {
      "name": "python3",
      "display_name": "Python 3"
    },
    "language_info": {
      "name": "python"
    }
  },
  "cells": [
    {
      "cell_type": "markdown",
      "metadata": {
        "id": "view-in-github",
        "colab_type": "text"
      },
      "source": [
        "<a href=\"https://colab.research.google.com/github/LanceAlcala/OOP-1-1/blob/main/Python_Classes_and_Objects.ipynb\" target=\"_parent\"><img src=\"https://colab.research.google.com/assets/colab-badge.svg\" alt=\"Open In Colab\"/></a>"
      ]
    },
    {
      "cell_type": "markdown",
      "source": [
        "Class"
      ],
      "metadata": {
        "id": "QJLdXbwtywWz"
      }
    },
    {
      "cell_type": "code",
      "source": [
        "class MyClass:\n",
        "  pass        #create a class without variable and methods"
      ],
      "metadata": {
        "id": "NdvGRrdfy6Df"
      },
      "execution_count": 1,
      "outputs": []
    },
    {
      "cell_type": "code",
      "source": [
        "class MyClass:\n",
        "  def __init__(self,name,age):\n",
        "    self.name = name        #create a class with attributes\n",
        "    self.age = age\n",
        "\n",
        "  def display(self):\n",
        "   print(self.name,self.age)\n",
        "\n",
        "person = MyClass('Lance Alcala',19)       #create an object name\n",
        "\n",
        "person.display()        #displays both attributes\n",
        "print(person.name)\n",
        "print(person.age)"
      ],
      "metadata": {
        "colab": {
          "base_uri": "https://localhost:8080/"
        },
        "id": "8dJfz3G1ztnK",
        "outputId": "983d36e3-7799-4ea9-9328-6f4119378c04"
      },
      "execution_count": 18,
      "outputs": [
        {
          "output_type": "stream",
          "name": "stdout",
          "text": [
            "Lance Alcala 19\n",
            "Lance Alcala\n",
            "19\n"
          ]
        }
      ]
    },
    {
      "cell_type": "code",
      "source": [
        "#Application 1 - Write a Python program that computes for an area of rectangle: A = (l)(w)\n",
        "\n",
        "class rectangle:\n",
        "  def __init__(self,l,w):\n",
        "    self.l = l        #attribute names\n",
        "    self.w = w\n",
        "\n",
        "  def a(self):\n",
        "    print(self.l*self.w)\n",
        "\n",
        "rect = rectangle(7,4)\n",
        "rect.a()"
      ],
      "metadata": {
        "colab": {
          "base_uri": "https://localhost:8080/"
        },
        "id": "WYwVuiHB2_8Z",
        "outputId": "4f647710-32be-41d3-f7ed-d7ef3ae1c8a9"
      },
      "execution_count": 17,
      "outputs": [
        {
          "output_type": "stream",
          "name": "stdout",
          "text": [
            "28\n"
          ]
        }
      ]
    }
  ]
}