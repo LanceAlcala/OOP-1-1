{
  "nbformat": 4,
  "nbformat_minor": 0,
  "metadata": {
    "colab": {
      "name": "GUI.ipynb",
      "provenance": [],
      "authorship_tag": "ABX9TyPAkRhnobK/TsrvHUJbnUCc",
      "include_colab_link": true
    },
    "kernelspec": {
      "name": "python3",
      "display_name": "Python 3"
    },
    "language_info": {
      "name": "python"
    }
  },
  "cells": [
    {
      "cell_type": "markdown",
      "metadata": {
        "id": "view-in-github",
        "colab_type": "text"
      },
      "source": [
        "<a href=\"https://colab.research.google.com/github/LanceAlcala/OOP-1-1/blob/main/GUI.ipynb\" target=\"_parent\"><img src=\"https://colab.research.google.com/assets/colab-badge.svg\" alt=\"Open In Colab\"/></a>"
      ]
    },
    {
      "cell_type": "markdown",
      "source": [
        "Students' Grade in OOP subject"
      ],
      "metadata": {
        "id": "4MIulAJNR7Fa"
      }
    },
    {
      "cell_type": "code",
      "source": [
        "#@title Students' Grade in OOP\n",
        "Student_Name =\"Lance Wesley Alcala\" #@param {type:\"string\"}\n",
        "prelim_grade = 98#@param {type:\"integer\"}\n",
        "midterm_grade = 80#@param {type:\"integer\"}\n",
        "final_grade = 97#@param {type:\"integer\"}\n",
        "sem_grade = round(((prelim_grade+midterm_grade+final_grade)/3),2)\n",
        "\n",
        "print(\"Student name: \" + Student_Name)\n",
        "print(\"Prelim Grade: \"+str(prelim_grade))\n",
        "print(\"Midterm Grade: \"+str(midterm_grade))\n",
        "print(\"Final Grade: \"+str(final_grade))\n",
        "print(\"My semestral grade: \"+ str(sem_grade))\n",
        "\n",
        "\n",
        "gender=\"Male\"#@param [\"Male\",\"Female\"]\n",
        "BirthDate = \"2003-01-28\"#@param {type: \"date\"}\n",
        "\n",
        "print(\"My birthdate is: \" + BirthDate)"
      ],
      "metadata": {
        "colab": {
          "base_uri": "https://localhost:8080/"
        },
        "id": "wA3h7Cy4RvRD",
        "outputId": "ef151248-7550-4e6b-a3d5-ca1a91d3bee7"
      },
      "execution_count": 27,
      "outputs": [
        {
          "output_type": "stream",
          "name": "stdout",
          "text": [
            "Student name: Lance Wesley Alcala\n",
            "Prelim Grade: 98\n",
            "Midterm Grade: 80\n",
            "Final Grade: 97\n",
            "My semestral grade: 91.67\n",
            "My birthdate is: 2003-01-28\n"
          ]
        }
      ]
    },
    {
      "cell_type": "markdown",
      "source": [
        "Tkinter module - pycharm"
      ],
      "metadata": {
        "id": "cbzy8MLfY_Ti"
      }
    }
  ]
}