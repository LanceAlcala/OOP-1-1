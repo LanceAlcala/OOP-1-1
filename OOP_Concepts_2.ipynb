{
  "nbformat": 4,
  "nbformat_minor": 0,
  "metadata": {
    "colab": {
      "name": "OOP Concepts 2.ipynb",
      "provenance": [],
      "collapsed_sections": [],
      "authorship_tag": "ABX9TyMtXMjxjhCR2ks68Zx1xern",
      "include_colab_link": true
    },
    "kernelspec": {
      "name": "python3",
      "display_name": "Python 3"
    },
    "language_info": {
      "name": "python"
    }
  },
  "cells": [
    {
      "cell_type": "markdown",
      "metadata": {
        "id": "view-in-github",
        "colab_type": "text"
      },
      "source": [
        "<a href=\"https://colab.research.google.com/github/LanceAlcala/OOP-1-1/blob/main/OOP_Concepts_2.ipynb\" target=\"_parent\"><img src=\"https://colab.research.google.com/assets/colab-badge.svg\" alt=\"Open In Colab\"/></a>"
      ]
    },
    {
      "cell_type": "markdown",
      "source": [
        "Classes with Multiple Objects"
      ],
      "metadata": {
        "id": "lAv4m0SmMWm_"
      }
    },
    {
      "cell_type": "code",
      "source": [
        "class Birds:\n",
        "  def __init__(self,bird_name):\n",
        "    self.bird_name = bird_name\n",
        "  def flying_birds(self):\n",
        "    print(f\"{self.bird_name} flies above clouds\")\n",
        "  def non_flying_birds(self):\n",
        "    print(f\"{self.bird_name} is the national bird of Australia\")\n",
        "\n",
        "vulture = Birds(\"Griffon Vulture\")\n",
        "crane = Birds(\"Common Crane\")\n",
        "emu = Birds(\"Emu\")\n",
        "\n",
        "vulture.flying_birds()\n",
        "crane.flying_birds()\n",
        "emu.non_flying_birds()"
      ],
      "metadata": {
        "colab": {
          "base_uri": "https://localhost:8080/"
        },
        "id": "1zMI5HTRMdls",
        "outputId": "c39f0ddf-0543-460b-cb9f-3def8ead1043"
      },
      "execution_count": null,
      "outputs": [
        {
          "output_type": "stream",
          "name": "stdout",
          "text": [
            "Griffon Vulture flies above clouds\n",
            "Common Crane flies above clouds\n",
            "Emu is the national bird of Australia\n"
          ]
        }
      ]
    },
    {
      "cell_type": "markdown",
      "source": [
        "Encapsulation"
      ],
      "metadata": {
        "id": "Z0U2O9WzOvHe"
      }
    },
    {
      "cell_type": "code",
      "source": [
        "class foo:\n",
        "  def __init__(self,a,b):\n",
        "    self.a=a\n",
        "    self.b=b\n",
        "  def add(self):\n",
        "    return self.a + self.b\n",
        "\n",
        "foo_object = foo(3,4)\n",
        "foo_object.add()"
      ],
      "metadata": {
        "colab": {
          "base_uri": "https://localhost:8080/"
        },
        "id": "oNp8Gj8KOvwu",
        "outputId": "df372777-7b8d-43b9-8c5f-dc5b8be29c6d"
      },
      "execution_count": null,
      "outputs": [
        {
          "output_type": "execute_result",
          "data": {
            "text/plain": [
              "7"
            ]
          },
          "metadata": {},
          "execution_count": 13
        }
      ]
    },
    {
      "cell_type": "markdown",
      "source": [
        "Encapsulation (mangling with double underscore)"
      ],
      "metadata": {
        "id": "Ucpev5HMQ2Hl"
      }
    },
    {
      "cell_type": "code",
      "source": [
        "class foo:\n",
        "  def __init__(self,a,b):\n",
        "    self.__a=a\n",
        "    self.__b=b\n",
        "  def add(self):\n",
        "    return self.__a + self.__b\n",
        "\n",
        "foo_object = foo(3,4)\n",
        "foo_object.add()\n",
        "\n",
        "foo_object.__a = 6\n",
        "foo_object.add()"
      ],
      "metadata": {
        "colab": {
          "base_uri": "https://localhost:8080/"
        },
        "id": "iBjRIKScQl24",
        "outputId": "769886cc-2f30-4ffc-b1e3-1a3e3835456e"
      },
      "execution_count": null,
      "outputs": [
        {
          "output_type": "execute_result",
          "data": {
            "text/plain": [
              "7"
            ]
          },
          "metadata": {},
          "execution_count": 7
        }
      ]
    },
    {
      "cell_type": "markdown",
      "source": [
        "Counter"
      ],
      "metadata": {
        "id": "8PogLXESUpCM"
      }
    },
    {
      "cell_type": "code",
      "source": [
        "class Counter:\n",
        "  def __init__(self):\n",
        "    self.current = 0\n",
        "\n",
        "  def increment(self):\n",
        "    self.current += 1       #it means add 1 to self.current\n",
        "\n",
        "  def value(self):\n",
        "    return self.current\n",
        "  \n",
        "  def reset(self):\n",
        "    self.current = 0\n",
        "\n",
        "counter=Counter()\n",
        "counter.increment()       # +1\n",
        "counter.increment()       # +1\n",
        "counter.increment()       # +1\n",
        "counter.increment()       # +1\n",
        "\n",
        "print(counter.value())"
      ],
      "metadata": {
        "colab": {
          "base_uri": "https://localhost:8080/"
        },
        "id": "8J0_c7z-Rcc2",
        "outputId": "960b3e96-6b25-459e-a1bf-78454463c53d"
      },
      "execution_count": null,
      "outputs": [
        {
          "output_type": "stream",
          "name": "stdout",
          "text": [
            "4\n"
          ]
        }
      ]
    },
    {
      "cell_type": "markdown",
      "source": [
        "Counter with mangle"
      ],
      "metadata": {
        "id": "CKH24EDLUsDU"
      }
    },
    {
      "cell_type": "code",
      "source": [
        "class Counter:\n",
        "  def __init__(self):\n",
        "    self.__current = 0\n",
        "\n",
        "  def increment(self):\n",
        "    self.__current += 1\n",
        "\n",
        "  def value(self):\n",
        "    return self.__current\n",
        "  \n",
        "  def reset(self):\n",
        "    self.__current = 0\n",
        "\n",
        "counter=Counter()\n",
        "counter.__current=1\n",
        "counter.increment()\n",
        "counter.increment()\n",
        "counter.increment()\n",
        "\n",
        "print(counter.value())"
      ],
      "metadata": {
        "colab": {
          "base_uri": "https://localhost:8080/"
        },
        "id": "V6QcpsepTiqM",
        "outputId": "5bb12d54-8d14-4ef4-f78d-469c22cd2390"
      },
      "execution_count": null,
      "outputs": [
        {
          "output_type": "stream",
          "name": "stdout",
          "text": [
            "3\n"
          ]
        }
      ]
    },
    {
      "cell_type": "markdown",
      "source": [
        "Inheritance"
      ],
      "metadata": {
        "id": "FUWfvNwMU76V"
      }
    },
    {
      "cell_type": "code",
      "source": [
        "class person():\n",
        "  def __init__(self,firstname,surname):\n",
        "    self.firstname=firstname\n",
        "    self.surname=surname\n",
        "\n",
        "  def fullname(self):\n",
        "    print(self.firstname,self.surname)\n",
        "  \n",
        "p=person(\"Lance Wesley\",\"Alcala\")\n",
        "p.fullname()\n",
        "\n",
        "class student(person):\n",
        "  pass\n",
        "\n",
        "p2=student(\"BSCpE\",\"1-1\")\n",
        "p2.fullname()\n",
        "\n",
        "class school(person):\n",
        "  pass\n",
        "\n",
        "p3=school(\"Cavite State University\",\"Indang Campus\")\n",
        "p3.fullname()"
      ],
      "metadata": {
        "colab": {
          "base_uri": "https://localhost:8080/"
        },
        "id": "TkpeOeE0U9Pc",
        "outputId": "6721c7df-7179-4432-841e-d0981459349a"
      },
      "execution_count": null,
      "outputs": [
        {
          "output_type": "stream",
          "name": "stdout",
          "text": [
            "Lance Wesley Alcala\n",
            "BSCpE 1-1\n",
            "Cavite State University Indang Campus\n"
          ]
        }
      ]
    },
    {
      "cell_type": "markdown",
      "source": [
        "Polymorphism - allows multiple classes to use the same method"
      ],
      "metadata": {
        "id": "A7umeObyXcFO"
      }
    },
    {
      "cell_type": "code",
      "source": [
        "class RegularPolygon:\n",
        "  def __init__(self,side):\n",
        "    self.side=side\n",
        "\n",
        "class Square(RegularPolygon):\n",
        "  def area(self):\n",
        "    return self.side*self.side\n",
        "\n",
        "class EquilateralTriangle(RegularPolygon):\n",
        "  def area(self):\n",
        "    return self.side*self.side*0.433\n",
        "\n",
        "obj1=Square(4)\n",
        "print(obj1.area())\n",
        "\n",
        "obj2=EquilateralTriangle(3)\n",
        "print(obj2.area())"
      ],
      "metadata": {
        "colab": {
          "base_uri": "https://localhost:8080/"
        },
        "id": "2L1D0XDvXdm_",
        "outputId": "c6cb9f68-994a-4f35-ce4f-e68aba25adbc"
      },
      "execution_count": null,
      "outputs": [
        {
          "output_type": "stream",
          "name": "stdout",
          "text": [
            "16\n",
            "3.897\n"
          ]
        }
      ]
    },
    {
      "cell_type": "markdown",
      "source": [
        "Application 1\n",
        "1. Create a Python program that displays the name of three students (Student 1, Student 2, and Student 3) and their term grades.\n",
        "2. Create a class name Person and attributes - std1, std2, std3, pre, mid, fin.\n",
        "3. Compute the average of each term grade using Grade() method.\n",
        "4. Information about student's grades must be hidden from others."
      ],
      "metadata": {
        "id": "hBRdsNFuY3vQ"
      }
    },
    {
      "cell_type": "code",
      "source": [
        "class Person():\n",
        "  def __init__(self, std1, std2, std3,pre, mid, fin):\n",
        "    self.__std1 = std1\n",
        "    self.__std2 = std2\n",
        "    self.__std3 = std3\n",
        "    self.__pre = pre\n",
        "    self.__mid = mid\n",
        "    self.__fin = fin\n",
        "\n",
        "  def student1(self):\n",
        "    print(\"\\n\"+self.__std1)\n",
        "    print(f\"Preliminary Grade: {self.__pre}\")\n",
        "    print(f\"Midterm Grade: {self.__mid}\")\n",
        "    print(f\"Final Grade: {self.__fin}\")\n",
        "    print(f\"Average:\",self.Grade())\n",
        "\n",
        "  def student2(self):\n",
        "    print(\"\\n\"+self.__std2)\n",
        "    print(f\"Preliminary Grade: {self.__pre}\")\n",
        "    print(f\"Midterm Grade: {self.__mid}\")\n",
        "    print(f\"Final Grade: {self.__fin}\")\n",
        "    print(f\"Average:\",self.Grade())\n",
        "\n",
        "  def student3(self):\n",
        "    print(\"\\n\"+self.__std3)\n",
        "    print(f\"Preliminary Grade: {self.__pre}\")\n",
        "    print(f\"Midterm Grade: {self.__mid}\")\n",
        "    print(f\"Final Grade: {self.__fin}\")\n",
        "    print(f\"Average:\",self.Grade())\n",
        "\n",
        "  def Grade(self):\n",
        "    return round((self.__pre + self.__mid + self.__fin)/3,2)  \n",
        "\n",
        "s1=Person(\"Student 1\",\"Student 2\", \"Student 3\", 90,87,99)\n",
        "s1.student1()\n",
        "\n",
        "s2=Person(\"Student 1\",\"Student 2\", \"Student 3\", 70,99,99)\n",
        "s2.student2()\n",
        "\n",
        "s3=Person(\"Student 1\",\"Student 2\", \"Student 3\", 90,97,99)\n",
        "s3.student3()"
      ],
      "metadata": {
        "colab": {
          "base_uri": "https://localhost:8080/"
        },
        "id": "NMcZJE-pjTr9",
        "outputId": "dbbdae27-9b3d-4a53-f6f4-ca2ae403b995"
      },
      "execution_count": 112,
      "outputs": [
        {
          "output_type": "stream",
          "name": "stdout",
          "text": [
            "\n",
            "Student 1\n",
            "Preliminary Grade: 90\n",
            "Midterm Grade: 87\n",
            "Final Grade: 99\n",
            "Average: 92.0\n",
            "\n",
            "Student 2\n",
            "Preliminary Grade: 70\n",
            "Midterm Grade: 99\n",
            "Final Grade: 99\n",
            "Average: 89.33\n",
            "\n",
            "Student 3\n",
            "Preliminary Grade: 90\n",
            "Midterm Grade: 97\n",
            "Final Grade: 99\n",
            "Average: 95.33\n"
          ]
        }
      ]
    }
  ]
}